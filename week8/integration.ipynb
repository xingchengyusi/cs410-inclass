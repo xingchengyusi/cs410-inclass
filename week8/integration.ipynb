{
 "cells": [
  {
   "cell_type": "markdown",
   "metadata": {
    "collapsed": true,
    "pycharm": {
     "name": "#%% md\n"
    }
   },
   "source": [
    "# Data Integration\n",
    "\n",
    "## Load Data"
   ]
  },
  {
   "cell_type": "code",
   "execution_count": 543,
   "metadata": {
    "pycharm": {
     "name": "#%%\n"
    }
   },
   "outputs": [
    {
     "data": {
      "text/html": [
       "<div>\n",
       "<style scoped>\n",
       "    .dataframe tbody tr th:only-of-type {\n",
       "        vertical-align: middle;\n",
       "    }\n",
       "\n",
       "    .dataframe tbody tr th {\n",
       "        vertical-align: top;\n",
       "    }\n",
       "\n",
       "    .dataframe thead th {\n",
       "        text-align: right;\n",
       "    }\n",
       "</style>\n",
       "<table border=\"1\" class=\"dataframe\">\n",
       "  <thead>\n",
       "    <tr style=\"text-align: right;\">\n",
       "      <th></th>\n",
       "      <th>TractId</th>\n",
       "      <th>State</th>\n",
       "      <th>County</th>\n",
       "      <th>TotalPop</th>\n",
       "      <th>Men</th>\n",
       "      <th>Women</th>\n",
       "      <th>Hispanic</th>\n",
       "      <th>White</th>\n",
       "      <th>Black</th>\n",
       "      <th>Native</th>\n",
       "      <th>Asian</th>\n",
       "      <th>Pacific</th>\n",
       "      <th>VotingAgeCitizen</th>\n",
       "      <th>Income</th>\n",
       "      <th>IncomeErr</th>\n",
       "      <th>IncomePerCap</th>\n",
       "      <th>IncomePerCapErr</th>\n",
       "      <th>Poverty</th>\n",
       "      <th>ChildPoverty</th>\n",
       "      <th>Professional</th>\n",
       "      <th>Service</th>\n",
       "      <th>Office</th>\n",
       "      <th>Construction</th>\n",
       "      <th>Production</th>\n",
       "      <th>Drive</th>\n",
       "      <th>Carpool</th>\n",
       "      <th>Transit</th>\n",
       "      <th>Walk</th>\n",
       "      <th>OtherTransp</th>\n",
       "      <th>WorkAtHome</th>\n",
       "      <th>MeanCommute</th>\n",
       "      <th>Employed</th>\n",
       "      <th>PrivateWork</th>\n",
       "      <th>PublicWork</th>\n",
       "      <th>SelfEmployed</th>\n",
       "      <th>FamilyWork</th>\n",
       "      <th>Unemployment</th>\n",
       "    </tr>\n",
       "  </thead>\n",
       "  <tbody>\n",
       "    <tr>\n",
       "      <th>0</th>\n",
       "      <td>1001020100</td>\n",
       "      <td>Alabama</td>\n",
       "      <td>Autauga County</td>\n",
       "      <td>1845</td>\n",
       "      <td>899</td>\n",
       "      <td>946</td>\n",
       "      <td>2.4</td>\n",
       "      <td>86.3</td>\n",
       "      <td>5.2</td>\n",
       "      <td>0.0</td>\n",
       "      <td>1.2</td>\n",
       "      <td>0.0</td>\n",
       "      <td>1407</td>\n",
       "      <td>67826.0</td>\n",
       "      <td>14560.0</td>\n",
       "      <td>33018.0</td>\n",
       "      <td>6294.0</td>\n",
       "      <td>10.7</td>\n",
       "      <td>20.8</td>\n",
       "      <td>38.5</td>\n",
       "      <td>15.6</td>\n",
       "      <td>22.8</td>\n",
       "      <td>10.8</td>\n",
       "      <td>12.4</td>\n",
       "      <td>94.2</td>\n",
       "      <td>3.3</td>\n",
       "      <td>0.0</td>\n",
       "      <td>0.5</td>\n",
       "      <td>0.0</td>\n",
       "      <td>2.1</td>\n",
       "      <td>24.5</td>\n",
       "      <td>881</td>\n",
       "      <td>74.2</td>\n",
       "      <td>21.2</td>\n",
       "      <td>4.5</td>\n",
       "      <td>0.0</td>\n",
       "      <td>4.6</td>\n",
       "    </tr>\n",
       "    <tr>\n",
       "      <th>1</th>\n",
       "      <td>1001020200</td>\n",
       "      <td>Alabama</td>\n",
       "      <td>Autauga County</td>\n",
       "      <td>2172</td>\n",
       "      <td>1167</td>\n",
       "      <td>1005</td>\n",
       "      <td>1.1</td>\n",
       "      <td>41.6</td>\n",
       "      <td>54.5</td>\n",
       "      <td>0.0</td>\n",
       "      <td>1.0</td>\n",
       "      <td>0.0</td>\n",
       "      <td>1652</td>\n",
       "      <td>41287.0</td>\n",
       "      <td>3819.0</td>\n",
       "      <td>18996.0</td>\n",
       "      <td>2453.0</td>\n",
       "      <td>22.4</td>\n",
       "      <td>35.8</td>\n",
       "      <td>30.5</td>\n",
       "      <td>24.9</td>\n",
       "      <td>22.9</td>\n",
       "      <td>6.3</td>\n",
       "      <td>15.4</td>\n",
       "      <td>90.5</td>\n",
       "      <td>9.1</td>\n",
       "      <td>0.0</td>\n",
       "      <td>0.0</td>\n",
       "      <td>0.5</td>\n",
       "      <td>0.0</td>\n",
       "      <td>22.2</td>\n",
       "      <td>852</td>\n",
       "      <td>75.9</td>\n",
       "      <td>15.0</td>\n",
       "      <td>9.0</td>\n",
       "      <td>0.0</td>\n",
       "      <td>3.4</td>\n",
       "    </tr>\n",
       "    <tr>\n",
       "      <th>2</th>\n",
       "      <td>1001020300</td>\n",
       "      <td>Alabama</td>\n",
       "      <td>Autauga County</td>\n",
       "      <td>3385</td>\n",
       "      <td>1533</td>\n",
       "      <td>1852</td>\n",
       "      <td>8.0</td>\n",
       "      <td>61.4</td>\n",
       "      <td>26.5</td>\n",
       "      <td>0.6</td>\n",
       "      <td>0.7</td>\n",
       "      <td>0.4</td>\n",
       "      <td>2480</td>\n",
       "      <td>46806.0</td>\n",
       "      <td>9496.0</td>\n",
       "      <td>21236.0</td>\n",
       "      <td>2562.0</td>\n",
       "      <td>14.7</td>\n",
       "      <td>21.1</td>\n",
       "      <td>27.9</td>\n",
       "      <td>19.4</td>\n",
       "      <td>33.3</td>\n",
       "      <td>9.9</td>\n",
       "      <td>9.6</td>\n",
       "      <td>88.3</td>\n",
       "      <td>8.4</td>\n",
       "      <td>0.0</td>\n",
       "      <td>1.0</td>\n",
       "      <td>0.8</td>\n",
       "      <td>1.5</td>\n",
       "      <td>23.1</td>\n",
       "      <td>1482</td>\n",
       "      <td>73.3</td>\n",
       "      <td>21.1</td>\n",
       "      <td>4.8</td>\n",
       "      <td>0.7</td>\n",
       "      <td>4.7</td>\n",
       "    </tr>\n",
       "    <tr>\n",
       "      <th>3</th>\n",
       "      <td>1001020400</td>\n",
       "      <td>Alabama</td>\n",
       "      <td>Autauga County</td>\n",
       "      <td>4267</td>\n",
       "      <td>2001</td>\n",
       "      <td>2266</td>\n",
       "      <td>9.6</td>\n",
       "      <td>80.3</td>\n",
       "      <td>7.1</td>\n",
       "      <td>0.5</td>\n",
       "      <td>0.2</td>\n",
       "      <td>0.0</td>\n",
       "      <td>3257</td>\n",
       "      <td>55895.0</td>\n",
       "      <td>4369.0</td>\n",
       "      <td>28068.0</td>\n",
       "      <td>3190.0</td>\n",
       "      <td>2.3</td>\n",
       "      <td>1.7</td>\n",
       "      <td>29.0</td>\n",
       "      <td>16.6</td>\n",
       "      <td>25.8</td>\n",
       "      <td>9.1</td>\n",
       "      <td>19.5</td>\n",
       "      <td>82.3</td>\n",
       "      <td>11.2</td>\n",
       "      <td>0.0</td>\n",
       "      <td>1.5</td>\n",
       "      <td>2.9</td>\n",
       "      <td>2.1</td>\n",
       "      <td>25.9</td>\n",
       "      <td>1849</td>\n",
       "      <td>75.8</td>\n",
       "      <td>19.7</td>\n",
       "      <td>4.5</td>\n",
       "      <td>0.0</td>\n",
       "      <td>6.1</td>\n",
       "    </tr>\n",
       "    <tr>\n",
       "      <th>4</th>\n",
       "      <td>1001020500</td>\n",
       "      <td>Alabama</td>\n",
       "      <td>Autauga County</td>\n",
       "      <td>9965</td>\n",
       "      <td>5054</td>\n",
       "      <td>4911</td>\n",
       "      <td>0.9</td>\n",
       "      <td>77.5</td>\n",
       "      <td>16.4</td>\n",
       "      <td>0.0</td>\n",
       "      <td>3.1</td>\n",
       "      <td>0.0</td>\n",
       "      <td>7229</td>\n",
       "      <td>68143.0</td>\n",
       "      <td>14424.0</td>\n",
       "      <td>36905.0</td>\n",
       "      <td>10706.0</td>\n",
       "      <td>12.2</td>\n",
       "      <td>17.9</td>\n",
       "      <td>48.8</td>\n",
       "      <td>13.8</td>\n",
       "      <td>20.5</td>\n",
       "      <td>3.5</td>\n",
       "      <td>13.4</td>\n",
       "      <td>86.9</td>\n",
       "      <td>11.2</td>\n",
       "      <td>0.0</td>\n",
       "      <td>0.8</td>\n",
       "      <td>0.3</td>\n",
       "      <td>0.7</td>\n",
       "      <td>21.0</td>\n",
       "      <td>4787</td>\n",
       "      <td>71.4</td>\n",
       "      <td>24.1</td>\n",
       "      <td>4.5</td>\n",
       "      <td>0.0</td>\n",
       "      <td>2.3</td>\n",
       "    </tr>\n",
       "  </tbody>\n",
       "</table>\n",
       "</div>"
      ],
      "text/plain": [
       "      TractId    State          County  TotalPop   Men  Women  Hispanic  \\\n",
       "0  1001020100  Alabama  Autauga County      1845   899    946       2.4   \n",
       "1  1001020200  Alabama  Autauga County      2172  1167   1005       1.1   \n",
       "2  1001020300  Alabama  Autauga County      3385  1533   1852       8.0   \n",
       "3  1001020400  Alabama  Autauga County      4267  2001   2266       9.6   \n",
       "4  1001020500  Alabama  Autauga County      9965  5054   4911       0.9   \n",
       "\n",
       "   White  Black  Native  Asian  Pacific  VotingAgeCitizen   Income  IncomeErr  \\\n",
       "0   86.3    5.2     0.0    1.2      0.0              1407  67826.0    14560.0   \n",
       "1   41.6   54.5     0.0    1.0      0.0              1652  41287.0     3819.0   \n",
       "2   61.4   26.5     0.6    0.7      0.4              2480  46806.0     9496.0   \n",
       "3   80.3    7.1     0.5    0.2      0.0              3257  55895.0     4369.0   \n",
       "4   77.5   16.4     0.0    3.1      0.0              7229  68143.0    14424.0   \n",
       "\n",
       "   IncomePerCap  IncomePerCapErr  Poverty  ChildPoverty  Professional  \\\n",
       "0       33018.0           6294.0     10.7          20.8          38.5   \n",
       "1       18996.0           2453.0     22.4          35.8          30.5   \n",
       "2       21236.0           2562.0     14.7          21.1          27.9   \n",
       "3       28068.0           3190.0      2.3           1.7          29.0   \n",
       "4       36905.0          10706.0     12.2          17.9          48.8   \n",
       "\n",
       "   Service  Office  Construction  Production  Drive  Carpool  Transit  Walk  \\\n",
       "0     15.6    22.8          10.8        12.4   94.2      3.3      0.0   0.5   \n",
       "1     24.9    22.9           6.3        15.4   90.5      9.1      0.0   0.0   \n",
       "2     19.4    33.3           9.9         9.6   88.3      8.4      0.0   1.0   \n",
       "3     16.6    25.8           9.1        19.5   82.3     11.2      0.0   1.5   \n",
       "4     13.8    20.5           3.5        13.4   86.9     11.2      0.0   0.8   \n",
       "\n",
       "   OtherTransp  WorkAtHome  MeanCommute  Employed  PrivateWork  PublicWork  \\\n",
       "0          0.0         2.1         24.5       881         74.2        21.2   \n",
       "1          0.5         0.0         22.2       852         75.9        15.0   \n",
       "2          0.8         1.5         23.1      1482         73.3        21.1   \n",
       "3          2.9         2.1         25.9      1849         75.8        19.7   \n",
       "4          0.3         0.7         21.0      4787         71.4        24.1   \n",
       "\n",
       "   SelfEmployed  FamilyWork  Unemployment  \n",
       "0           4.5         0.0           4.6  \n",
       "1           9.0         0.0           3.4  \n",
       "2           4.8         0.7           4.7  \n",
       "3           4.5         0.0           6.1  \n",
       "4           4.5         0.0           2.3  "
      ]
     },
     "execution_count": 543,
     "metadata": {},
     "output_type": "execute_result"
    }
   ],
   "source": [
    "import pandas as pd\n",
    "import numpy as np\n",
    "import matplotlib\n",
    "\n",
    "pd.set_option('display.max_columns', 300)\n",
    "pd.set_option('display.max_rows', 300)\n",
    "\n",
    "covidCounty = pd.read_csv('./COVID_county_data.csv')\n",
    "acs2017 = pd.read_csv('./acs2017_census_tract_data.csv')\n",
    "acs2017.head(5)"
   ]
  },
  {
   "cell_type": "markdown",
   "metadata": {
    "pycharm": {
     "name": "#%% md\n"
    }
   },
   "source": [
    "## A. Aggregate Census Data to County Level"
   ]
  },
  {
   "cell_type": "code",
   "execution_count": 544,
   "metadata": {
    "pycharm": {
     "name": "#%%\n"
    }
   },
   "outputs": [
    {
     "name": "stdout",
     "output_type": "stream",
     "text": [
      "There is 1955 county name in whole 74001 lines.\n"
     ]
    }
   ],
   "source": [
    "acs2017County = acs2017['County']\n",
    "print(f\"There is {len(acs2017County.unique())} county name \\\n",
    "in whole {acs2017County.size} lines.\")"
   ]
  },
  {
   "cell_type": "code",
   "execution_count": 545,
   "metadata": {
    "pycharm": {
     "name": "#%%\n"
    }
   },
   "outputs": [],
   "source": [
    "def aggCensusData(group):\n",
    "    \"\"\"This function calculate the total population, poverty, and percapitaincome.\n",
    "\n",
    "    Population: Sum, add all records belong to one county.\n",
    "    Poverty: First, compute the number of poverty people in every record.\n",
    "        Second, add them together and divide total population to reduce error.\n",
    "    PerCapitaIncome: Similar method with poverty.\n",
    "    \"\"\"\n",
    "    newS = {'Population': group['TotalPop'].sum()}\n",
    "    newS['Poverty'] = np.sum(group['Poverty'] * group['TotalPop'] /100) / newS['Population'] * 100\n",
    "    newS['PerCapitaIncome'] = np.sum(group['IncomePerCap'] * group['TotalPop']) / newS['Population']\n",
    "    return newS\n",
    "\n",
    "\n",
    "acsAgged = acs2017.groupby(['County', 'State']).apply(aggCensusData).reset_index()\n",
    "acsAgged[['Population', 'Poverty', 'PerCapitaIncome']] = pd.DataFrame(acsAgged[0].tolist())\n",
    "acsAgged = acsAgged.drop(columns=0)"
   ]
  },
  {
   "cell_type": "code",
   "execution_count": 546,
   "metadata": {
    "pycharm": {
     "name": "#%%\n"
    }
   },
   "outputs": [
    {
     "data": {
      "text/html": [
       "<div>\n",
       "<style scoped>\n",
       "    .dataframe tbody tr th:only-of-type {\n",
       "        vertical-align: middle;\n",
       "    }\n",
       "\n",
       "    .dataframe tbody tr th {\n",
       "        vertical-align: top;\n",
       "    }\n",
       "\n",
       "    .dataframe thead th {\n",
       "        text-align: right;\n",
       "    }\n",
       "</style>\n",
       "<table border=\"1\" class=\"dataframe\">\n",
       "  <thead>\n",
       "    <tr style=\"text-align: right;\">\n",
       "      <th></th>\n",
       "      <th>County</th>\n",
       "      <th>State</th>\n",
       "      <th>Population</th>\n",
       "      <th>Poverty</th>\n",
       "      <th>PerCapitaIncome</th>\n",
       "    </tr>\n",
       "  </thead>\n",
       "  <tbody>\n",
       "    <tr>\n",
       "      <th>1759</th>\n",
       "      <td>Loudoun County</td>\n",
       "      <td>Virginia</td>\n",
       "      <td>374558</td>\n",
       "      <td>3.689598</td>\n",
       "      <td>50455.645745</td>\n",
       "    </tr>\n",
       "    <tr>\n",
       "      <th>3046</th>\n",
       "      <td>Washington County</td>\n",
       "      <td>Oregon</td>\n",
       "      <td>572071</td>\n",
       "      <td>10.321202</td>\n",
       "      <td>35369.047499</td>\n",
       "    </tr>\n",
       "    <tr>\n",
       "      <th>1234</th>\n",
       "      <td>Harlan County</td>\n",
       "      <td>Kentucky</td>\n",
       "      <td>27548</td>\n",
       "      <td>35.669482</td>\n",
       "      <td>15456.971032</td>\n",
       "    </tr>\n",
       "    <tr>\n",
       "      <th>1822</th>\n",
       "      <td>Malheur County</td>\n",
       "      <td>Oregon</td>\n",
       "      <td>30421</td>\n",
       "      <td>24.298225</td>\n",
       "      <td>17567.504323</td>\n",
       "    </tr>\n",
       "  </tbody>\n",
       "</table>\n",
       "</div>"
      ],
      "text/plain": [
       "                 County     State  Population    Poverty  PerCapitaIncome\n",
       "1759     Loudoun County  Virginia      374558   3.689598     50455.645745\n",
       "3046  Washington County    Oregon      572071  10.321202     35369.047499\n",
       "1234      Harlan County  Kentucky       27548  35.669482     15456.971032\n",
       "1822     Malheur County    Oregon       30421  24.298225     17567.504323"
      ]
     },
     "execution_count": 546,
     "metadata": {},
     "output_type": "execute_result"
    }
   ],
   "source": [
    "acsAgged.iloc[[1759, 3046, 1234, 1822]]"
   ]
  },
  {
   "cell_type": "markdown",
   "metadata": {
    "pycharm": {
     "name": "#%% md\n"
    }
   },
   "source": [
    "## B. Simplify the COVID Data"
   ]
  },
  {
   "cell_type": "code",
   "execution_count": 547,
   "metadata": {
    "pycharm": {
     "name": "#%%\n"
    }
   },
   "outputs": [
    {
     "data": {
      "text/html": [
       "<div>\n",
       "<style scoped>\n",
       "    .dataframe tbody tr th:only-of-type {\n",
       "        vertical-align: middle;\n",
       "    }\n",
       "\n",
       "    .dataframe tbody tr th {\n",
       "        vertical-align: top;\n",
       "    }\n",
       "\n",
       "    .dataframe thead th {\n",
       "        text-align: right;\n",
       "    }\n",
       "</style>\n",
       "<table border=\"1\" class=\"dataframe\">\n",
       "  <thead>\n",
       "    <tr style=\"text-align: right;\">\n",
       "      <th></th>\n",
       "      <th>date</th>\n",
       "      <th>county</th>\n",
       "      <th>state</th>\n",
       "      <th>fips</th>\n",
       "      <th>cases</th>\n",
       "      <th>deaths</th>\n",
       "    </tr>\n",
       "  </thead>\n",
       "  <tbody>\n",
       "    <tr>\n",
       "      <th>0</th>\n",
       "      <td>2020-01-21</td>\n",
       "      <td>Snohomish</td>\n",
       "      <td>Washington</td>\n",
       "      <td>53061.0</td>\n",
       "      <td>1</td>\n",
       "      <td>0.0</td>\n",
       "    </tr>\n",
       "    <tr>\n",
       "      <th>1</th>\n",
       "      <td>2020-01-22</td>\n",
       "      <td>Snohomish</td>\n",
       "      <td>Washington</td>\n",
       "      <td>53061.0</td>\n",
       "      <td>1</td>\n",
       "      <td>0.0</td>\n",
       "    </tr>\n",
       "    <tr>\n",
       "      <th>2</th>\n",
       "      <td>2020-01-23</td>\n",
       "      <td>Snohomish</td>\n",
       "      <td>Washington</td>\n",
       "      <td>53061.0</td>\n",
       "      <td>1</td>\n",
       "      <td>0.0</td>\n",
       "    </tr>\n",
       "    <tr>\n",
       "      <th>3</th>\n",
       "      <td>2020-01-24</td>\n",
       "      <td>Cook</td>\n",
       "      <td>Illinois</td>\n",
       "      <td>17031.0</td>\n",
       "      <td>1</td>\n",
       "      <td>0.0</td>\n",
       "    </tr>\n",
       "    <tr>\n",
       "      <th>4</th>\n",
       "      <td>2020-01-24</td>\n",
       "      <td>Snohomish</td>\n",
       "      <td>Washington</td>\n",
       "      <td>53061.0</td>\n",
       "      <td>1</td>\n",
       "      <td>0.0</td>\n",
       "    </tr>\n",
       "  </tbody>\n",
       "</table>\n",
       "</div>"
      ],
      "text/plain": [
       "         date     county       state     fips  cases  deaths\n",
       "0  2020-01-21  Snohomish  Washington  53061.0      1     0.0\n",
       "1  2020-01-22  Snohomish  Washington  53061.0      1     0.0\n",
       "2  2020-01-23  Snohomish  Washington  53061.0      1     0.0\n",
       "3  2020-01-24       Cook    Illinois  17031.0      1     0.0\n",
       "4  2020-01-24  Snohomish  Washington  53061.0      1     0.0"
      ]
     },
     "execution_count": 547,
     "metadata": {},
     "output_type": "execute_result"
    }
   ],
   "source": [
    "covidCounty.head(5)"
   ]
  },
  {
   "cell_type": "code",
   "execution_count": 548,
   "metadata": {
    "pycharm": {
     "name": "#%%\n"
    }
   },
   "outputs": [
    {
     "data": {
      "text/html": [
       "<div>\n",
       "<style scoped>\n",
       "    .dataframe tbody tr th:only-of-type {\n",
       "        vertical-align: middle;\n",
       "    }\n",
       "\n",
       "    .dataframe tbody tr th {\n",
       "        vertical-align: top;\n",
       "    }\n",
       "\n",
       "    .dataframe thead th {\n",
       "        text-align: right;\n",
       "    }\n",
       "</style>\n",
       "<table border=\"1\" class=\"dataframe\">\n",
       "  <thead>\n",
       "    <tr style=\"text-align: right;\">\n",
       "      <th></th>\n",
       "      <th>county</th>\n",
       "      <th>state</th>\n",
       "      <th>casesTotal</th>\n",
       "      <th>deathsTotal</th>\n",
       "      <th>casesDec2020</th>\n",
       "      <th>deathsDec2020</th>\n",
       "    </tr>\n",
       "  </thead>\n",
       "  <tbody>\n",
       "    <tr>\n",
       "      <th>0</th>\n",
       "      <td>Autauga</td>\n",
       "      <td>Alabama</td>\n",
       "      <td>6092</td>\n",
       "      <td>85.0</td>\n",
       "      <td>4190.0</td>\n",
       "      <td>48.0</td>\n",
       "    </tr>\n",
       "    <tr>\n",
       "      <th>1</th>\n",
       "      <td>Baldwin</td>\n",
       "      <td>Alabama</td>\n",
       "      <td>19392</td>\n",
       "      <td>262.0</td>\n",
       "      <td>13601.0</td>\n",
       "      <td>161.0</td>\n",
       "    </tr>\n",
       "    <tr>\n",
       "      <th>2</th>\n",
       "      <td>Barbour</td>\n",
       "      <td>Alabama</td>\n",
       "      <td>2067</td>\n",
       "      <td>50.0</td>\n",
       "      <td>1514.0</td>\n",
       "      <td>32.0</td>\n",
       "    </tr>\n",
       "    <tr>\n",
       "      <th>3</th>\n",
       "      <td>Bibb</td>\n",
       "      <td>Alabama</td>\n",
       "      <td>2414</td>\n",
       "      <td>58.0</td>\n",
       "      <td>1834.0</td>\n",
       "      <td>46.0</td>\n",
       "    </tr>\n",
       "    <tr>\n",
       "      <th>4</th>\n",
       "      <td>Blount</td>\n",
       "      <td>Alabama</td>\n",
       "      <td>6040</td>\n",
       "      <td>125.0</td>\n",
       "      <td>4641.0</td>\n",
       "      <td>63.0</td>\n",
       "    </tr>\n",
       "  </tbody>\n",
       "</table>\n",
       "</div>"
      ],
      "text/plain": [
       "    county    state  casesTotal  deathsTotal  casesDec2020  deathsDec2020\n",
       "0  Autauga  Alabama        6092         85.0        4190.0           48.0\n",
       "1  Baldwin  Alabama       19392        262.0       13601.0          161.0\n",
       "2  Barbour  Alabama        2067         50.0        1514.0           32.0\n",
       "3     Bibb  Alabama        2414         58.0        1834.0           46.0\n",
       "4   Blount  Alabama        6040        125.0        4641.0           63.0"
      ]
     },
     "execution_count": 548,
     "metadata": {},
     "output_type": "execute_result"
    }
   ],
   "source": [
    "dec20 = covidCounty.loc[covidCounty['date'] == '2020-12-31']\n",
    "total = covidCounty.loc[covidCounty['date'] == '2021-02-20']\n",
    "total = total.drop(columns=['date', 'fips'])\n",
    "dec20 = dec20.drop(columns=['date', 'fips'])\n",
    "\n",
    "covidCountyAgged = total.merge(dec20, how='left', on=['county', 'state'], suffixes=('Total', 'Dec2020'))\n",
    "covidCountyAgged.head(5)"
   ]
  },
  {
   "cell_type": "code",
   "execution_count": 549,
   "metadata": {
    "pycharm": {
     "name": "#%%\n"
    }
   },
   "outputs": [
    {
     "data": {
      "text/html": [
       "<div>\n",
       "<style scoped>\n",
       "    .dataframe tbody tr th:only-of-type {\n",
       "        vertical-align: middle;\n",
       "    }\n",
       "\n",
       "    .dataframe tbody tr th {\n",
       "        vertical-align: top;\n",
       "    }\n",
       "\n",
       "    .dataframe thead th {\n",
       "        text-align: right;\n",
       "    }\n",
       "</style>\n",
       "<table border=\"1\" class=\"dataframe\">\n",
       "  <thead>\n",
       "    <tr style=\"text-align: right;\">\n",
       "      <th></th>\n",
       "      <th>county</th>\n",
       "      <th>state</th>\n",
       "      <th>casesTotal</th>\n",
       "      <th>deathsTotal</th>\n",
       "      <th>casesDec2020</th>\n",
       "      <th>deathsDec2020</th>\n",
       "    </tr>\n",
       "  </thead>\n",
       "  <tbody>\n",
       "    <tr>\n",
       "      <th>2995</th>\n",
       "      <td>Loudoun</td>\n",
       "      <td>Virginia</td>\n",
       "      <td>22557</td>\n",
       "      <td>199.0</td>\n",
       "      <td>14169.0</td>\n",
       "      <td>159.0</td>\n",
       "    </tr>\n",
       "    <tr>\n",
       "      <th>2260</th>\n",
       "      <td>Washington</td>\n",
       "      <td>Oregon</td>\n",
       "      <td>20866</td>\n",
       "      <td>209.0</td>\n",
       "      <td>16070.0</td>\n",
       "      <td>142.0</td>\n",
       "    </tr>\n",
       "    <tr>\n",
       "      <th>1048</th>\n",
       "      <td>Harlan</td>\n",
       "      <td>Kentucky</td>\n",
       "      <td>2352</td>\n",
       "      <td>68.0</td>\n",
       "      <td>1538.0</td>\n",
       "      <td>18.0</td>\n",
       "    </tr>\n",
       "    <tr>\n",
       "      <th>2249</th>\n",
       "      <td>Malheur</td>\n",
       "      <td>Oregon</td>\n",
       "      <td>3331</td>\n",
       "      <td>58.0</td>\n",
       "      <td>2914.0</td>\n",
       "      <td>50.0</td>\n",
       "    </tr>\n",
       "  </tbody>\n",
       "</table>\n",
       "</div>"
      ],
      "text/plain": [
       "          county     state  casesTotal  deathsTotal  casesDec2020  \\\n",
       "2995     Loudoun  Virginia       22557        199.0       14169.0   \n",
       "2260  Washington    Oregon       20866        209.0       16070.0   \n",
       "1048      Harlan  Kentucky        2352         68.0        1538.0   \n",
       "2249     Malheur    Oregon        3331         58.0        2914.0   \n",
       "\n",
       "      deathsDec2020  \n",
       "2995          159.0  \n",
       "2260          142.0  \n",
       "1048           18.0  \n",
       "2249           50.0  "
      ]
     },
     "execution_count": 549,
     "metadata": {},
     "output_type": "execute_result"
    }
   ],
   "source": [
    "outputCounty = [('Virginia', 'Loudoun'),\n",
    "                ('Oregon', 'Washington'),\n",
    "                ('Kentucky', 'Harlan'),\n",
    "                ('Oregon', 'Malheur'),]\n",
    "\n",
    "def printCounty(data, hasCounty=False):\n",
    "    for s, c in outputCounty:\n",
    "        if hasCounty:\n",
    "            c += ' County'\n",
    "        print(data.loc[(covidCountyAgged['state'] == s) & (covidCountyAgged['county'] == c)])\n",
    "\n",
    "covidCountyAgged.iloc[[2995, 2260, 1048, 2249]]"
   ]
  },
  {
   "cell_type": "markdown",
   "metadata": {
    "pycharm": {
     "name": "#%% md\n"
    }
   },
   "source": [
    "## C. Integrate COVID Data with ACS Data"
   ]
  },
  {
   "cell_type": "code",
   "execution_count": 550,
   "metadata": {
    "pycharm": {
     "name": "#%%\n"
    }
   },
   "outputs": [
    {
     "data": {
      "text/html": [
       "<div>\n",
       "<style scoped>\n",
       "    .dataframe tbody tr th:only-of-type {\n",
       "        vertical-align: middle;\n",
       "    }\n",
       "\n",
       "    .dataframe tbody tr th {\n",
       "        vertical-align: top;\n",
       "    }\n",
       "\n",
       "    .dataframe thead th {\n",
       "        text-align: right;\n",
       "    }\n",
       "</style>\n",
       "<table border=\"1\" class=\"dataframe\">\n",
       "  <thead>\n",
       "    <tr style=\"text-align: right;\">\n",
       "      <th></th>\n",
       "      <th>County</th>\n",
       "      <th>State</th>\n",
       "      <th>Population</th>\n",
       "      <th>Poverty</th>\n",
       "      <th>PerCapitaIncome</th>\n",
       "      <th>TotalCases</th>\n",
       "      <th>TotalDeaths</th>\n",
       "      <th>Dec2020Cases</th>\n",
       "      <th>Dec2020Deaths</th>\n",
       "    </tr>\n",
       "  </thead>\n",
       "  <tbody>\n",
       "    <tr>\n",
       "      <th>0</th>\n",
       "      <td>Abbeville</td>\n",
       "      <td>South Carolina</td>\n",
       "      <td>24788</td>\n",
       "      <td>22.663628</td>\n",
       "      <td>19234.247176</td>\n",
       "      <td>2174.0</td>\n",
       "      <td>34.0</td>\n",
       "      <td>1275.0</td>\n",
       "      <td>25.0</td>\n",
       "    </tr>\n",
       "    <tr>\n",
       "      <th>1</th>\n",
       "      <td>Acadia</td>\n",
       "      <td>Louisiana</td>\n",
       "      <td>62607</td>\n",
       "      <td>21.630767</td>\n",
       "      <td>21590.908876</td>\n",
       "      <td>5999.0</td>\n",
       "      <td>181.0</td>\n",
       "      <td>5082.0</td>\n",
       "      <td>153.0</td>\n",
       "    </tr>\n",
       "    <tr>\n",
       "      <th>2</th>\n",
       "      <td>Accomack</td>\n",
       "      <td>Virginia</td>\n",
       "      <td>32840</td>\n",
       "      <td>19.905271</td>\n",
       "      <td>24265.653959</td>\n",
       "      <td>2552.0</td>\n",
       "      <td>35.0</td>\n",
       "      <td>1698.0</td>\n",
       "      <td>27.0</td>\n",
       "    </tr>\n",
       "    <tr>\n",
       "      <th>3</th>\n",
       "      <td>Ada</td>\n",
       "      <td>Idaho</td>\n",
       "      <td>435117</td>\n",
       "      <td>11.909603</td>\n",
       "      <td>31642.314649</td>\n",
       "      <td>46190.0</td>\n",
       "      <td>428.0</td>\n",
       "      <td>38417.0</td>\n",
       "      <td>355.0</td>\n",
       "    </tr>\n",
       "    <tr>\n",
       "      <th>4</th>\n",
       "      <td>Adair</td>\n",
       "      <td>Iowa</td>\n",
       "      <td>7192</td>\n",
       "      <td>9.479060</td>\n",
       "      <td>28860.857620</td>\n",
       "      <td>790.0</td>\n",
       "      <td>26.0</td>\n",
       "      <td>606.0</td>\n",
       "      <td>17.0</td>\n",
       "    </tr>\n",
       "  </tbody>\n",
       "</table>\n",
       "</div>"
      ],
      "text/plain": [
       "      County           State  Population    Poverty  PerCapitaIncome  \\\n",
       "0  Abbeville  South Carolina       24788  22.663628     19234.247176   \n",
       "1     Acadia       Louisiana       62607  21.630767     21590.908876   \n",
       "2   Accomack        Virginia       32840  19.905271     24265.653959   \n",
       "3        Ada           Idaho      435117  11.909603     31642.314649   \n",
       "4      Adair            Iowa        7192   9.479060     28860.857620   \n",
       "\n",
       "   TotalCases  TotalDeaths  Dec2020Cases  Dec2020Deaths  \n",
       "0      2174.0         34.0        1275.0           25.0  \n",
       "1      5999.0        181.0        5082.0          153.0  \n",
       "2      2552.0         35.0        1698.0           27.0  \n",
       "3     46190.0        428.0       38417.0          355.0  \n",
       "4       790.0         26.0         606.0           17.0  "
      ]
     },
     "execution_count": 550,
     "metadata": {},
     "output_type": "execute_result"
    }
   ],
   "source": [
    "covidCountyAgged = covidCountyAgged.rename(columns={\n",
    "    'county': 'County',\n",
    "    'state': 'State',\n",
    "    'casesDec2020': 'Dec2020Cases',\n",
    "    'deathsDec2020': 'Dec2020Deaths',\n",
    "    'casesTotal': 'TotalCases',\n",
    "    'deathsTotal': 'TotalDeaths',\n",
    "})\n",
    "acsAgged['County'] = acsAgged['County'].map(lambda x: x.split()[0])\n",
    "\n",
    "df = acsAgged.merge(covidCountyAgged, how='left', on=['County', 'State'])\n",
    "df.head(5)"
   ]
  },
  {
   "cell_type": "code",
   "execution_count": 551,
   "metadata": {
    "pycharm": {
     "name": "#%%\n"
    }
   },
   "outputs": [
    {
     "data": {
      "text/html": [
       "<div>\n",
       "<style scoped>\n",
       "    .dataframe tbody tr th:only-of-type {\n",
       "        vertical-align: middle;\n",
       "    }\n",
       "\n",
       "    .dataframe tbody tr th {\n",
       "        vertical-align: top;\n",
       "    }\n",
       "\n",
       "    .dataframe thead th {\n",
       "        text-align: right;\n",
       "    }\n",
       "</style>\n",
       "<table border=\"1\" class=\"dataframe\">\n",
       "  <thead>\n",
       "    <tr style=\"text-align: right;\">\n",
       "      <th></th>\n",
       "      <th>County</th>\n",
       "      <th>State</th>\n",
       "      <th>Population</th>\n",
       "      <th>Poverty</th>\n",
       "      <th>PerCapitaIncome</th>\n",
       "      <th>TotalCases</th>\n",
       "      <th>TotalDeaths</th>\n",
       "      <th>Dec2020Cases</th>\n",
       "      <th>Dec2020Deaths</th>\n",
       "    </tr>\n",
       "  </thead>\n",
       "  <tbody>\n",
       "    <tr>\n",
       "      <th>126</th>\n",
       "      <td>Baker</td>\n",
       "      <td>Oregon</td>\n",
       "      <td>15980</td>\n",
       "      <td>15.083855</td>\n",
       "      <td>25820.273154</td>\n",
       "      <td>629.0</td>\n",
       "      <td>7.0</td>\n",
       "      <td>472.0</td>\n",
       "      <td>5.0</td>\n",
       "    </tr>\n",
       "    <tr>\n",
       "      <th>197</th>\n",
       "      <td>Benton</td>\n",
       "      <td>Oregon</td>\n",
       "      <td>88249</td>\n",
       "      <td>22.421152</td>\n",
       "      <td>30872.824361</td>\n",
       "      <td>2248.0</td>\n",
       "      <td>16.0</td>\n",
       "      <td>1347.0</td>\n",
       "      <td>11.0</td>\n",
       "    </tr>\n",
       "    <tr>\n",
       "      <th>533</th>\n",
       "      <td>Clackamas</td>\n",
       "      <td>Oregon</td>\n",
       "      <td>399962</td>\n",
       "      <td>8.976120</td>\n",
       "      <td>37550.849108</td>\n",
       "      <td>13196.0</td>\n",
       "      <td>172.0</td>\n",
       "      <td>10058.0</td>\n",
       "      <td>114.0</td>\n",
       "    </tr>\n",
       "    <tr>\n",
       "      <th>558</th>\n",
       "      <td>Clatsop</td>\n",
       "      <td>Oregon</td>\n",
       "      <td>38021</td>\n",
       "      <td>12.190090</td>\n",
       "      <td>28114.625523</td>\n",
       "      <td>766.0</td>\n",
       "      <td>6.0</td>\n",
       "      <td>553.0</td>\n",
       "      <td>3.0</td>\n",
       "    </tr>\n",
       "    <tr>\n",
       "      <th>631</th>\n",
       "      <td>Columbia</td>\n",
       "      <td>Oregon</td>\n",
       "      <td>50207</td>\n",
       "      <td>12.315329</td>\n",
       "      <td>28459.688051</td>\n",
       "      <td>1208.0</td>\n",
       "      <td>21.0</td>\n",
       "      <td>837.0</td>\n",
       "      <td>14.0</td>\n",
       "    </tr>\n",
       "    <tr>\n",
       "      <th>656</th>\n",
       "      <td>Coos</td>\n",
       "      <td>Oregon</td>\n",
       "      <td>62921</td>\n",
       "      <td>17.896488</td>\n",
       "      <td>26007.212997</td>\n",
       "      <td>1347.0</td>\n",
       "      <td>18.0</td>\n",
       "      <td>756.0</td>\n",
       "      <td>9.0</td>\n",
       "    </tr>\n",
       "    <tr>\n",
       "      <th>697</th>\n",
       "      <td>Crook</td>\n",
       "      <td>Oregon</td>\n",
       "      <td>21717</td>\n",
       "      <td>15.320864</td>\n",
       "      <td>24238.814477</td>\n",
       "      <td>765.0</td>\n",
       "      <td>18.0</td>\n",
       "      <td>448.0</td>\n",
       "      <td>7.0</td>\n",
       "    </tr>\n",
       "    <tr>\n",
       "      <th>718</th>\n",
       "      <td>Curry</td>\n",
       "      <td>Oregon</td>\n",
       "      <td>22377</td>\n",
       "      <td>15.408656</td>\n",
       "      <td>26925.536399</td>\n",
       "      <td>394.0</td>\n",
       "      <td>6.0</td>\n",
       "      <td>278.0</td>\n",
       "      <td>3.0</td>\n",
       "    </tr>\n",
       "    <tr>\n",
       "      <th>796</th>\n",
       "      <td>Deschutes</td>\n",
       "      <td>Oregon</td>\n",
       "      <td>175321</td>\n",
       "      <td>12.100898</td>\n",
       "      <td>31574.934092</td>\n",
       "      <td>5839.0</td>\n",
       "      <td>58.0</td>\n",
       "      <td>3976.0</td>\n",
       "      <td>22.0</td>\n",
       "    </tr>\n",
       "    <tr>\n",
       "      <th>839</th>\n",
       "      <td>Douglas</td>\n",
       "      <td>Oregon</td>\n",
       "      <td>107576</td>\n",
       "      <td>17.025995</td>\n",
       "      <td>25001.732924</td>\n",
       "      <td>2312.0</td>\n",
       "      <td>51.0</td>\n",
       "      <td>1387.0</td>\n",
       "      <td>39.0</td>\n",
       "    </tr>\n",
       "    <tr>\n",
       "      <th>1068</th>\n",
       "      <td>Gilliam</td>\n",
       "      <td>Oregon</td>\n",
       "      <td>1910</td>\n",
       "      <td>9.900000</td>\n",
       "      <td>24178.000000</td>\n",
       "      <td>53.0</td>\n",
       "      <td>1.0</td>\n",
       "      <td>37.0</td>\n",
       "      <td>1.0</td>\n",
       "    </tr>\n",
       "    <tr>\n",
       "      <th>1115</th>\n",
       "      <td>Grant</td>\n",
       "      <td>Oregon</td>\n",
       "      <td>7209</td>\n",
       "      <td>13.635802</td>\n",
       "      <td>25154.161742</td>\n",
       "      <td>221.0</td>\n",
       "      <td>1.0</td>\n",
       "      <td>170.0</td>\n",
       "      <td>1.0</td>\n",
       "    </tr>\n",
       "    <tr>\n",
       "      <th>1238</th>\n",
       "      <td>Harney</td>\n",
       "      <td>Oregon</td>\n",
       "      <td>7195</td>\n",
       "      <td>17.528770</td>\n",
       "      <td>24397.712578</td>\n",
       "      <td>266.0</td>\n",
       "      <td>6.0</td>\n",
       "      <td>134.0</td>\n",
       "      <td>2.0</td>\n",
       "    </tr>\n",
       "    <tr>\n",
       "      <th>1320</th>\n",
       "      <td>Hood</td>\n",
       "      <td>Oregon</td>\n",
       "      <td>22938</td>\n",
       "      <td>12.123145</td>\n",
       "      <td>29594.972796</td>\n",
       "      <td>NaN</td>\n",
       "      <td>NaN</td>\n",
       "      <td>NaN</td>\n",
       "      <td>NaN</td>\n",
       "    </tr>\n",
       "    <tr>\n",
       "      <th>1415</th>\n",
       "      <td>Jackson</td>\n",
       "      <td>Oregon</td>\n",
       "      <td>212070</td>\n",
       "      <td>16.858350</td>\n",
       "      <td>27080.538534</td>\n",
       "      <td>8115.0</td>\n",
       "      <td>108.0</td>\n",
       "      <td>5884.0</td>\n",
       "      <td>72.0</td>\n",
       "    </tr>\n",
       "    <tr>\n",
       "      <th>1453</th>\n",
       "      <td>Jefferson</td>\n",
       "      <td>Oregon</td>\n",
       "      <td>22707</td>\n",
       "      <td>20.694856</td>\n",
       "      <td>22956.835293</td>\n",
       "      <td>1918.0</td>\n",
       "      <td>27.0</td>\n",
       "      <td>1425.0</td>\n",
       "      <td>17.0</td>\n",
       "    </tr>\n",
       "    <tr>\n",
       "      <th>1493</th>\n",
       "      <td>Josephine</td>\n",
       "      <td>Oregon</td>\n",
       "      <td>84514</td>\n",
       "      <td>18.646376</td>\n",
       "      <td>24348.609449</td>\n",
       "      <td>2266.0</td>\n",
       "      <td>48.0</td>\n",
       "      <td>1193.0</td>\n",
       "      <td>22.0</td>\n",
       "    </tr>\n",
       "    <tr>\n",
       "      <th>1559</th>\n",
       "      <td>Klamath</td>\n",
       "      <td>Oregon</td>\n",
       "      <td>66018</td>\n",
       "      <td>18.688624</td>\n",
       "      <td>23793.066679</td>\n",
       "      <td>2752.0</td>\n",
       "      <td>54.0</td>\n",
       "      <td>1910.0</td>\n",
       "      <td>18.0</td>\n",
       "    </tr>\n",
       "    <tr>\n",
       "      <th>1608</th>\n",
       "      <td>Lake</td>\n",
       "      <td>Oregon</td>\n",
       "      <td>7807</td>\n",
       "      <td>20.139311</td>\n",
       "      <td>21004.589343</td>\n",
       "      <td>373.0</td>\n",
       "      <td>6.0</td>\n",
       "      <td>197.0</td>\n",
       "      <td>4.0</td>\n",
       "    </tr>\n",
       "    <tr>\n",
       "      <th>1626</th>\n",
       "      <td>Lane</td>\n",
       "      <td>Oregon</td>\n",
       "      <td>363471</td>\n",
       "      <td>19.230471</td>\n",
       "      <td>27032.412179</td>\n",
       "      <td>10033.0</td>\n",
       "      <td>121.0</td>\n",
       "      <td>6929.0</td>\n",
       "      <td>92.0</td>\n",
       "    </tr>\n",
       "    <tr>\n",
       "      <th>1720</th>\n",
       "      <td>Lincoln</td>\n",
       "      <td>Oregon</td>\n",
       "      <td>47307</td>\n",
       "      <td>18.376280</td>\n",
       "      <td>25782.113704</td>\n",
       "      <td>1120.0</td>\n",
       "      <td>19.0</td>\n",
       "      <td>880.0</td>\n",
       "      <td>17.0</td>\n",
       "    </tr>\n",
       "    <tr>\n",
       "      <th>1731</th>\n",
       "      <td>Linn</td>\n",
       "      <td>Oregon</td>\n",
       "      <td>121074</td>\n",
       "      <td>16.063929</td>\n",
       "      <td>24448.467359</td>\n",
       "      <td>3533.0</td>\n",
       "      <td>55.0</td>\n",
       "      <td>2650.0</td>\n",
       "      <td>32.0</td>\n",
       "    </tr>\n",
       "    <tr>\n",
       "      <th>1822</th>\n",
       "      <td>Malheur</td>\n",
       "      <td>Oregon</td>\n",
       "      <td>30421</td>\n",
       "      <td>24.298225</td>\n",
       "      <td>17567.504323</td>\n",
       "      <td>3331.0</td>\n",
       "      <td>58.0</td>\n",
       "      <td>2914.0</td>\n",
       "      <td>50.0</td>\n",
       "    </tr>\n",
       "    <tr>\n",
       "      <th>1848</th>\n",
       "      <td>Marion</td>\n",
       "      <td>Oregon</td>\n",
       "      <td>330453</td>\n",
       "      <td>16.128516</td>\n",
       "      <td>24791.074831</td>\n",
       "      <td>18171.0</td>\n",
       "      <td>280.0</td>\n",
       "      <td>13928.0</td>\n",
       "      <td>210.0</td>\n",
       "    </tr>\n",
       "    <tr>\n",
       "      <th>2070</th>\n",
       "      <td>Morrow</td>\n",
       "      <td>Oregon</td>\n",
       "      <td>11153</td>\n",
       "      <td>14.699050</td>\n",
       "      <td>21742.930153</td>\n",
       "      <td>1031.0</td>\n",
       "      <td>13.0</td>\n",
       "      <td>815.0</td>\n",
       "      <td>8.0</td>\n",
       "    </tr>\n",
       "    <tr>\n",
       "      <th>2078</th>\n",
       "      <td>Multnomah</td>\n",
       "      <td>Oregon</td>\n",
       "      <td>788459</td>\n",
       "      <td>16.474668</td>\n",
       "      <td>34848.165612</td>\n",
       "      <td>31526.0</td>\n",
       "      <td>516.0</td>\n",
       "      <td>25290.0</td>\n",
       "      <td>394.0</td>\n",
       "    </tr>\n",
       "    <tr>\n",
       "      <th>2359</th>\n",
       "      <td>Polk</td>\n",
       "      <td>Oregon</td>\n",
       "      <td>79666</td>\n",
       "      <td>15.639958</td>\n",
       "      <td>25928.364057</td>\n",
       "      <td>2978.0</td>\n",
       "      <td>42.0</td>\n",
       "      <td>1977.0</td>\n",
       "      <td>30.0</td>\n",
       "    </tr>\n",
       "    <tr>\n",
       "      <th>2671</th>\n",
       "      <td>Sherman</td>\n",
       "      <td>Oregon</td>\n",
       "      <td>1635</td>\n",
       "      <td>13.700000</td>\n",
       "      <td>34226.000000</td>\n",
       "      <td>52.0</td>\n",
       "      <td>0.0</td>\n",
       "      <td>31.0</td>\n",
       "      <td>0.0</td>\n",
       "    </tr>\n",
       "    <tr>\n",
       "      <th>2860</th>\n",
       "      <td>Tillamook</td>\n",
       "      <td>Oregon</td>\n",
       "      <td>25840</td>\n",
       "      <td>15.512717</td>\n",
       "      <td>25458.191138</td>\n",
       "      <td>403.0</td>\n",
       "      <td>2.0</td>\n",
       "      <td>308.0</td>\n",
       "      <td>0.0</td>\n",
       "    </tr>\n",
       "    <tr>\n",
       "      <th>2919</th>\n",
       "      <td>Umatilla</td>\n",
       "      <td>Oregon</td>\n",
       "      <td>76736</td>\n",
       "      <td>17.825222</td>\n",
       "      <td>22153.237007</td>\n",
       "      <td>7580.0</td>\n",
       "      <td>80.0</td>\n",
       "      <td>5640.0</td>\n",
       "      <td>57.0</td>\n",
       "    </tr>\n",
       "    <tr>\n",
       "      <th>2933</th>\n",
       "      <td>Union</td>\n",
       "      <td>Oregon</td>\n",
       "      <td>25810</td>\n",
       "      <td>17.618597</td>\n",
       "      <td>26585.728710</td>\n",
       "      <td>1264.0</td>\n",
       "      <td>19.0</td>\n",
       "      <td>980.0</td>\n",
       "      <td>14.0</td>\n",
       "    </tr>\n",
       "    <tr>\n",
       "      <th>2994</th>\n",
       "      <td>Wallowa</td>\n",
       "      <td>Oregon</td>\n",
       "      <td>6864</td>\n",
       "      <td>13.748776</td>\n",
       "      <td>26897.389860</td>\n",
       "      <td>142.0</td>\n",
       "      <td>4.0</td>\n",
       "      <td>76.0</td>\n",
       "      <td>3.0</td>\n",
       "    </tr>\n",
       "    <tr>\n",
       "      <th>3021</th>\n",
       "      <td>Wasco</td>\n",
       "      <td>Oregon</td>\n",
       "      <td>25687</td>\n",
       "      <td>13.670818</td>\n",
       "      <td>24727.506132</td>\n",
       "      <td>1218.0</td>\n",
       "      <td>25.0</td>\n",
       "      <td>905.0</td>\n",
       "      <td>22.0</td>\n",
       "    </tr>\n",
       "    <tr>\n",
       "      <th>3046</th>\n",
       "      <td>Washington</td>\n",
       "      <td>Oregon</td>\n",
       "      <td>572071</td>\n",
       "      <td>10.321202</td>\n",
       "      <td>35369.047499</td>\n",
       "      <td>20866.0</td>\n",
       "      <td>209.0</td>\n",
       "      <td>16070.0</td>\n",
       "      <td>142.0</td>\n",
       "    </tr>\n",
       "    <tr>\n",
       "      <th>3109</th>\n",
       "      <td>Wheeler</td>\n",
       "      <td>Oregon</td>\n",
       "      <td>1415</td>\n",
       "      <td>20.600000</td>\n",
       "      <td>21268.000000</td>\n",
       "      <td>22.0</td>\n",
       "      <td>1.0</td>\n",
       "      <td>17.0</td>\n",
       "      <td>1.0</td>\n",
       "    </tr>\n",
       "    <tr>\n",
       "      <th>3195</th>\n",
       "      <td>Yamhill</td>\n",
       "      <td>Oregon</td>\n",
       "      <td>102366</td>\n",
       "      <td>13.802658</td>\n",
       "      <td>28539.604791</td>\n",
       "      <td>3716.0</td>\n",
       "      <td>62.0</td>\n",
       "      <td>2641.0</td>\n",
       "      <td>35.0</td>\n",
       "    </tr>\n",
       "  </tbody>\n",
       "</table>\n",
       "</div>"
      ],
      "text/plain": [
       "          County   State  Population    Poverty  PerCapitaIncome  TotalCases  \\\n",
       "126        Baker  Oregon       15980  15.083855     25820.273154       629.0   \n",
       "197       Benton  Oregon       88249  22.421152     30872.824361      2248.0   \n",
       "533    Clackamas  Oregon      399962   8.976120     37550.849108     13196.0   \n",
       "558      Clatsop  Oregon       38021  12.190090     28114.625523       766.0   \n",
       "631     Columbia  Oregon       50207  12.315329     28459.688051      1208.0   \n",
       "656         Coos  Oregon       62921  17.896488     26007.212997      1347.0   \n",
       "697        Crook  Oregon       21717  15.320864     24238.814477       765.0   \n",
       "718        Curry  Oregon       22377  15.408656     26925.536399       394.0   \n",
       "796    Deschutes  Oregon      175321  12.100898     31574.934092      5839.0   \n",
       "839      Douglas  Oregon      107576  17.025995     25001.732924      2312.0   \n",
       "1068     Gilliam  Oregon        1910   9.900000     24178.000000        53.0   \n",
       "1115       Grant  Oregon        7209  13.635802     25154.161742       221.0   \n",
       "1238      Harney  Oregon        7195  17.528770     24397.712578       266.0   \n",
       "1320        Hood  Oregon       22938  12.123145     29594.972796         NaN   \n",
       "1415     Jackson  Oregon      212070  16.858350     27080.538534      8115.0   \n",
       "1453   Jefferson  Oregon       22707  20.694856     22956.835293      1918.0   \n",
       "1493   Josephine  Oregon       84514  18.646376     24348.609449      2266.0   \n",
       "1559     Klamath  Oregon       66018  18.688624     23793.066679      2752.0   \n",
       "1608        Lake  Oregon        7807  20.139311     21004.589343       373.0   \n",
       "1626        Lane  Oregon      363471  19.230471     27032.412179     10033.0   \n",
       "1720     Lincoln  Oregon       47307  18.376280     25782.113704      1120.0   \n",
       "1731        Linn  Oregon      121074  16.063929     24448.467359      3533.0   \n",
       "1822     Malheur  Oregon       30421  24.298225     17567.504323      3331.0   \n",
       "1848      Marion  Oregon      330453  16.128516     24791.074831     18171.0   \n",
       "2070      Morrow  Oregon       11153  14.699050     21742.930153      1031.0   \n",
       "2078   Multnomah  Oregon      788459  16.474668     34848.165612     31526.0   \n",
       "2359        Polk  Oregon       79666  15.639958     25928.364057      2978.0   \n",
       "2671     Sherman  Oregon        1635  13.700000     34226.000000        52.0   \n",
       "2860   Tillamook  Oregon       25840  15.512717     25458.191138       403.0   \n",
       "2919    Umatilla  Oregon       76736  17.825222     22153.237007      7580.0   \n",
       "2933       Union  Oregon       25810  17.618597     26585.728710      1264.0   \n",
       "2994     Wallowa  Oregon        6864  13.748776     26897.389860       142.0   \n",
       "3021       Wasco  Oregon       25687  13.670818     24727.506132      1218.0   \n",
       "3046  Washington  Oregon      572071  10.321202     35369.047499     20866.0   \n",
       "3109     Wheeler  Oregon        1415  20.600000     21268.000000        22.0   \n",
       "3195     Yamhill  Oregon      102366  13.802658     28539.604791      3716.0   \n",
       "\n",
       "      TotalDeaths  Dec2020Cases  Dec2020Deaths  \n",
       "126           7.0         472.0            5.0  \n",
       "197          16.0        1347.0           11.0  \n",
       "533         172.0       10058.0          114.0  \n",
       "558           6.0         553.0            3.0  \n",
       "631          21.0         837.0           14.0  \n",
       "656          18.0         756.0            9.0  \n",
       "697          18.0         448.0            7.0  \n",
       "718           6.0         278.0            3.0  \n",
       "796          58.0        3976.0           22.0  \n",
       "839          51.0        1387.0           39.0  \n",
       "1068          1.0          37.0            1.0  \n",
       "1115          1.0         170.0            1.0  \n",
       "1238          6.0         134.0            2.0  \n",
       "1320          NaN           NaN            NaN  \n",
       "1415        108.0        5884.0           72.0  \n",
       "1453         27.0        1425.0           17.0  \n",
       "1493         48.0        1193.0           22.0  \n",
       "1559         54.0        1910.0           18.0  \n",
       "1608          6.0         197.0            4.0  \n",
       "1626        121.0        6929.0           92.0  \n",
       "1720         19.0         880.0           17.0  \n",
       "1731         55.0        2650.0           32.0  \n",
       "1822         58.0        2914.0           50.0  \n",
       "1848        280.0       13928.0          210.0  \n",
       "2070         13.0         815.0            8.0  \n",
       "2078        516.0       25290.0          394.0  \n",
       "2359         42.0        1977.0           30.0  \n",
       "2671          0.0          31.0            0.0  \n",
       "2860          2.0         308.0            0.0  \n",
       "2919         80.0        5640.0           57.0  \n",
       "2933         19.0         980.0           14.0  \n",
       "2994          4.0          76.0            3.0  \n",
       "3021         25.0         905.0           22.0  \n",
       "3046        209.0       16070.0          142.0  \n",
       "3109          1.0          17.0            1.0  \n",
       "3195         62.0        2641.0           35.0  "
      ]
     },
     "execution_count": 551,
     "metadata": {},
     "output_type": "execute_result"
    }
   ],
   "source": [
    "df.loc[df['State'] == 'Oregon']"
   ]
  },
  {
   "cell_type": "markdown",
   "metadata": {
    "pycharm": {
     "name": "#%% md\n"
    }
   },
   "source": [
    "## D. Analysis"
   ]
  },
  {
   "cell_type": "code",
   "execution_count": 552,
   "metadata": {
    "pycharm": {
     "name": "#%%\n"
    }
   },
   "outputs": [],
   "source": [
    "# normalized COVID related data:\n",
    "df['normalizedTotalCases'] = df.apply(lambda x: x['TotalCases'] * 100000 / x['Population'], axis=1)\n",
    "df['normalizedDec2020Cases'] = df.apply(lambda x: x['Dec2020Cases'] * 100000 / x['Population'], axis=1)\n",
    "df['normalizedTotalDeaths'] = df.apply(lambda x: x['TotalDeaths'] * 100000 / x['Population'], axis=1)\n",
    "df['normalizedDec2020Deaths'] = df.apply(lambda x: x['Dec2020Deaths'] * 100000 / x['Population'], axis=1)\n",
    "\n",
    "dfOregon = df.loc[df['State'] == 'Oregon']"
   ]
  },
  {
   "cell_type": "code",
   "execution_count": 563,
   "metadata": {
    "pycharm": {
     "name": "#%%\n"
    }
   },
   "outputs": [
    {
     "name": "stdout",
     "output_type": "stream",
     "text": [
      "0.3340728988157821\n"
     ]
    },
    {
     "data": {
      "text/plain": [
       "<AxesSubplot:xlabel='normalizedTotalCases', ylabel='Poverty'>"
      ]
     },
     "execution_count": 563,
     "metadata": {},
     "output_type": "execute_result"
    },
    {
     "data": {
      "image/png": "[encoded data removed]",
      "text/plain": [
       "<Figure size 432x288 with 1 Axes>"
      ]
     },
     "metadata": {
      "needs_background": "light"
     },
     "output_type": "display_data"
    }
   ],
   "source": [
    "# COVID total cases vs. % population in poverty\n",
    "print(dfOregon['normalizedTotalCases'].corr(dfOregon['Poverty']))\n",
    "dfOregon.plot.scatter(x='normalizedTotalCases', y='Poverty')"
   ]
  },
  {
   "cell_type": "code",
   "execution_count": 565,
   "metadata": {
    "pycharm": {
     "name": "#%%\n"
    }
   },
   "outputs": [
    {
     "name": "stdout",
     "output_type": "stream",
     "text": [
      "0.44641856196714574\n"
     ]
    },
    {
     "data": {
      "text/plain": [
       "<AxesSubplot:xlabel='normalizedTotalDeaths', ylabel='Poverty'>"
      ]
     },
     "execution_count": 565,
     "metadata": {},
     "output_type": "execute_result"
    },
    {
     "data": {
      "image/png": "[encoded data removed]",
      "text/plain": [
       "<Figure size 432x288 with 1 Axes>"
      ]
     },
     "metadata": {
      "needs_background": "light"
     },
     "output_type": "display_data"
    }
   ],
   "source": [
    "# COVID total deaths vs. % population in poverty\n",
    "print(dfOregon['normalizedTotalDeaths'].corr(dfOregon['Poverty']))\n",
    "dfOregon.plot.scatter(x='normalizedTotalDeaths', y='Poverty')"
   ]
  },
  {
   "cell_type": "code",
   "execution_count": 566,
   "metadata": {
    "pycharm": {
     "name": "#%%\n"
    }
   },
   "outputs": [
    {
     "name": "stdout",
     "output_type": "stream",
     "text": [
      "-0.4230772423331276\n"
     ]
    },
    {
     "data": {
      "text/plain": [
       "<AxesSubplot:xlabel='normalizedTotalCases', ylabel='PerCapitaIncome'>"
      ]
     },
     "execution_count": 566,
     "metadata": {},
     "output_type": "execute_result"
    },
    {
     "data": {
      "image/png": "[encoded data removed]",
      "text/plain": [
       "<Figure size 432x288 with 1 Axes>"
      ]
     },
     "metadata": {
      "needs_background": "light"
     },
     "output_type": "display_data"
    }
   ],
   "source": [
    "# COVID total cases vs. Per Capita Income level\n",
    "print(dfOregon['normalizedTotalCases'].corr(dfOregon['PerCapitaIncome']))\n",
    "dfOregon.plot.scatter(x='normalizedTotalCases', y='PerCapitaIncome')"
   ]
  },
  {
   "cell_type": "code",
   "execution_count": 567,
   "metadata": {
    "pycharm": {
     "name": "#%%\n"
    }
   },
   "outputs": [
    {
     "name": "stdout",
     "output_type": "stream",
     "text": [
      "-0.6038943461719376\n"
     ]
    },
    {
     "data": {
      "text/plain": [
       "<AxesSubplot:xlabel='normalizedTotalDeaths', ylabel='PerCapitaIncome'>"
      ]
     },
     "execution_count": 567,
     "metadata": {},
     "output_type": "execute_result"
    },
    {
     "data": {
      "image/png": "[encoded data removed]",
      "text/plain": [
       "<Figure size 432x288 with 1 Axes>"
      ]
     },
     "metadata": {
      "needs_background": "light"
     },
     "output_type": "display_data"
    }
   ],
   "source": [
    "# COVID total cases vs. Per Capita Income level\n",
    "print(dfOregon['normalizedTotalDeaths'].corr(dfOregon['PerCapitaIncome']))\n",
    "dfOregon.plot.scatter(x='normalizedTotalDeaths', y='PerCapitaIncome')"
   ]
  },
  {
   "cell_type": "code",
   "execution_count": 568,
   "metadata": {
    "pycharm": {
     "name": "#%%\n"
    }
   },
   "outputs": [
    {
     "name": "stdout",
     "output_type": "stream",
     "text": [
      "0.31337666047094387\n"
     ]
    },
    {
     "data": {
      "text/plain": [
       "<AxesSubplot:xlabel='normalizedDec2020Cases', ylabel='Poverty'>"
      ]
     },
     "execution_count": 568,
     "metadata": {},
     "output_type": "execute_result"
    },
    {
     "data": {
      "image/png": "[encoded data removed]",
      "text/plain": [
       "<Figure size 432x288 with 1 Axes>"
      ]
     },
     "metadata": {
      "needs_background": "light"
     },
     "output_type": "display_data"
    }
   ],
   "source": [
    "# COVID cases during December 2020 vs. % population in poverty\n",
    "print(dfOregon['normalizedDec2020Cases'].corr(dfOregon['Poverty']))\n",
    "dfOregon.plot.scatter(x='normalizedDec2020Cases', y='Poverty')"
   ]
  },
  {
   "cell_type": "code",
   "execution_count": 569,
   "metadata": {
    "pycharm": {
     "name": "#%%\n"
    }
   },
   "outputs": [
    {
     "name": "stdout",
     "output_type": "stream",
     "text": [
      "0.4185024590219378\n"
     ]
    },
    {
     "data": {
      "text/plain": [
       "<AxesSubplot:xlabel='normalizedDec2020Deaths', ylabel='Poverty'>"
      ]
     },
     "execution_count": 569,
     "metadata": {},
     "output_type": "execute_result"
    },
    {
     "data": {
      "image/png": "[encoded data removed]",
      "text/plain": [
       "<Figure size 432x288 with 1 Axes>"
      ]
     },
     "metadata": {
      "needs_background": "light"
     },
     "output_type": "display_data"
    }
   ],
   "source": [
    "# COVID deaths during December 2020 vs. % population in poverty\n",
    "print(dfOregon['normalizedDec2020Deaths'].corr(dfOregon['Poverty']))\n",
    "dfOregon.plot.scatter(x='normalizedDec2020Deaths', y='Poverty')"
   ]
  },
  {
   "cell_type": "code",
   "execution_count": 570,
   "metadata": {
    "pycharm": {
     "name": "#%%\n"
    }
   },
   "outputs": [
    {
     "name": "stdout",
     "output_type": "stream",
     "text": [
      "-0.3990775130803367\n"
     ]
    },
    {
     "data": {
      "text/plain": [
       "<AxesSubplot:xlabel='normalizedDec2020Cases', ylabel='PerCapitaIncome'>"
      ]
     },
     "execution_count": 570,
     "metadata": {},
     "output_type": "execute_result"
    },
    {
     "data": {
      "image/png": "[encoded data removed]",
      "text/plain": [
       "<Figure size 432x288 with 1 Axes>"
      ]
     },
     "metadata": {
      "needs_background": "light"
     },
     "output_type": "display_data"
    }
   ],
   "source": [
    "# COVID cases during December 2020 vs. Per Capita Income level\n",
    "print(dfOregon['normalizedDec2020Cases'].corr(dfOregon['PerCapitaIncome']))\n",
    "dfOregon.plot.scatter(x='normalizedDec2020Cases', y='PerCapitaIncome')"
   ]
  },
  {
   "cell_type": "code",
   "execution_count": 571,
   "metadata": {
    "pycharm": {
     "name": "#%%\n"
    }
   },
   "outputs": [
    {
     "name": "stdout",
     "output_type": "stream",
     "text": [
      "-0.5610193309143583\n"
     ]
    },
    {
     "data": {
      "text/plain": [
       "<AxesSubplot:xlabel='normalizedDec2020Deaths', ylabel='PerCapitaIncome'>"
      ]
     },
     "execution_count": 571,
     "metadata": {},
     "output_type": "execute_result"
    },
    {
     "data": {
      "image/png": "[encoded data removed]",
      "text/plain": [
       "<Figure size 432x288 with 1 Axes>"
      ]
     },
     "metadata": {
      "needs_background": "light"
     },
     "output_type": "display_data"
    }
   ],
   "source": [
    "# COVID deaths during December 2020 vs. Per Capita Income level\n",
    "print(dfOregon['normalizedDec2020Deaths'].corr(dfOregon['PerCapitaIncome']))\n",
    "dfOregon.plot.scatter(x='normalizedDec2020Deaths', y='PerCapitaIncome')"
   ]
  },
  {
   "cell_type": "code",
   "execution_count": 554,
   "metadata": {
    "pycharm": {
     "name": "#%%\n"
    }
   },
   "outputs": [
    {
     "name": "stdout",
     "output_type": "stream",
     "text": [
      "-0.03625034757555473\n"
     ]
    },
    {
     "data": {
      "text/plain": [
       "<AxesSubplot:xlabel='normalizedTotalCases', ylabel='Poverty'>"
      ]
     },
     "execution_count": 554,
     "metadata": {},
     "output_type": "execute_result"
    },
    {
     "data": {
      "image/png": "[encoded data removed]",
      "text/plain": [
       "<Figure size 432x288 with 1 Axes>"
      ]
     },
     "metadata": {
      "needs_background": "light"
     },
     "output_type": "display_data"
    }
   ],
   "source": [
    "# a\n",
    "print(df['normalizedTotalCases'].corr(df['Poverty']))\n",
    "df.plot.scatter(x='normalizedTotalCases', y='Poverty')"
   ]
  },
  {
   "cell_type": "code",
   "execution_count": 555,
   "metadata": {
    "pycharm": {
     "name": "#%%\n"
    }
   },
   "outputs": [
    {
     "name": "stdout",
     "output_type": "stream",
     "text": [
      "0.168169895401471\n"
     ]
    },
    {
     "data": {
      "text/plain": [
       "<AxesSubplot:xlabel='normalizedTotalDeaths', ylabel='Poverty'>"
      ]
     },
     "execution_count": 555,
     "metadata": {},
     "output_type": "execute_result"
    },
    {
     "data": {
      "image/png": "[encoded data removed]",
      "text/plain": [
       "<Figure size 432x288 with 1 Axes>"
      ]
     },
     "metadata": {
      "needs_background": "light"
     },
     "output_type": "display_data"
    }
   ],
   "source": [
    "# b\n",
    "print(df['normalizedTotalDeaths'].corr(df['Poverty']))\n",
    "df.plot.scatter(x='normalizedTotalDeaths', y='Poverty')"
   ]
  },
  {
   "cell_type": "code",
   "execution_count": 556,
   "metadata": {
    "pycharm": {
     "name": "#%%\n"
    }
   },
   "outputs": [
    {
     "name": "stdout",
     "output_type": "stream",
     "text": [
      "-0.0008635265119192699\n"
     ]
    },
    {
     "data": {
      "text/plain": [
       "<AxesSubplot:xlabel='normalizedTotalCases', ylabel='PerCapitaIncome'>"
      ]
     },
     "execution_count": 556,
     "metadata": {},
     "output_type": "execute_result"
    },
    {
     "data": {
      "image/png": "[encoded data removed]",
      "text/plain": [
       "<Figure size 432x288 with 1 Axes>"
      ]
     },
     "metadata": {
      "needs_background": "light"
     },
     "output_type": "display_data"
    }
   ],
   "source": [
    "# c\n",
    "print(df['normalizedTotalCases'].corr(df['PerCapitaIncome']))\n",
    "df.plot.scatter(x='normalizedTotalCases', y='PerCapitaIncome')"
   ]
  },
  {
   "cell_type": "code",
   "execution_count": 557,
   "metadata": {
    "pycharm": {
     "name": "#%%\n"
    }
   },
   "outputs": [
    {
     "name": "stdout",
     "output_type": "stream",
     "text": [
      "-0.16322573192413595\n"
     ]
    },
    {
     "data": {
      "text/plain": [
       "<AxesSubplot:xlabel='normalizedTotalDeaths', ylabel='PerCapitaIncome'>"
      ]
     },
     "execution_count": 557,
     "metadata": {},
     "output_type": "execute_result"
    },
    {
     "data": {
      "image/png": "[encoded data removed]",
      "text/plain": [
       "<Figure size 432x288 with 1 Axes>"
      ]
     },
     "metadata": {
      "needs_background": "light"
     },
     "output_type": "display_data"
    }
   ],
   "source": [
    "# d\n",
    "print(df['normalizedTotalDeaths'].corr(df['PerCapitaIncome']))\n",
    "df.plot.scatter(x='normalizedTotalDeaths', y='PerCapitaIncome')"
   ]
  },
  {
   "cell_type": "code",
   "execution_count": 558,
   "metadata": {
    "pycharm": {
     "name": "#%%\n"
    }
   },
   "outputs": [
    {
     "name": "stdout",
     "output_type": "stream",
     "text": [
      "-0.04691750985723975\n"
     ]
    },
    {
     "data": {
      "text/plain": [
       "<AxesSubplot:xlabel='normalizedDec2020Cases', ylabel='Poverty'>"
      ]
     },
     "execution_count": 558,
     "metadata": {},
     "output_type": "execute_result"
    },
    {
     "data": {
      "image/png": "[encoded data removed]",
      "text/plain": [
       "<Figure size 432x288 with 1 Axes>"
      ]
     },
     "metadata": {
      "needs_background": "light"
     },
     "output_type": "display_data"
    }
   ],
   "source": [
    "# e\n",
    "print(df['normalizedDec2020Cases'].corr(df['Poverty']))\n",
    "df.plot.scatter(x='normalizedDec2020Cases', y='Poverty')"
   ]
  },
  {
   "cell_type": "code",
   "execution_count": 559,
   "metadata": {
    "pycharm": {
     "name": "#%%\n"
    }
   },
   "outputs": [
    {
     "name": "stdout",
     "output_type": "stream",
     "text": [
      "0.13230161790836484\n"
     ]
    },
    {
     "data": {
      "text/plain": [
       "<AxesSubplot:xlabel='normalizedDec2020Deaths', ylabel='Poverty'>"
      ]
     },
     "execution_count": 559,
     "metadata": {},
     "output_type": "execute_result"
    },
    {
     "data": {
      "image/png": "[encoded data removed]",
      "text/plain": [
       "<Figure size 432x288 with 1 Axes>"
      ]
     },
     "metadata": {
      "needs_background": "light"
     },
     "output_type": "display_data"
    }
   ],
   "source": [
    "# f\n",
    "print(df['normalizedDec2020Deaths'].corr(df['Poverty']))\n",
    "df.plot.scatter(x='normalizedDec2020Deaths', y='Poverty')"
   ]
  },
  {
   "cell_type": "code",
   "execution_count": 560,
   "metadata": {
    "pycharm": {
     "name": "#%%\n"
    }
   },
   "outputs": [
    {
     "name": "stdout",
     "output_type": "stream",
     "text": [
      "-0.0035631552176380752\n"
     ]
    },
    {
     "data": {
      "text/plain": [
       "<AxesSubplot:xlabel='normalizedDec2020Cases', ylabel='PerCapitaIncome'>"
      ]
     },
     "execution_count": 560,
     "metadata": {},
     "output_type": "execute_result"
    },
    {
     "data": {
      "image/png": "[encoded data removed]",
      "text/plain": [
       "<Figure size 432x288 with 1 Axes>"
      ]
     },
     "metadata": {
      "needs_background": "light"
     },
     "output_type": "display_data"
    }
   ],
   "source": [
    "# g.COVID cases during December 2020 vs. Per Capita Income level\n",
    "print(df['normalizedDec2020Cases'].corr(df['PerCapitaIncome']))\n",
    "df.plot.scatter(x='normalizedDec2020Cases', y='PerCapitaIncome')"
   ]
  },
  {
   "cell_type": "code",
   "execution_count": 561,
   "metadata": {
    "pycharm": {
     "name": "#%%\n"
    }
   },
   "outputs": [
    {
     "name": "stdout",
     "output_type": "stream",
     "text": [
      "-0.11014163400704882\n"
     ]
    },
    {
     "data": {
      "text/plain": [
       "<AxesSubplot:xlabel='normalizedDec2020Deaths', ylabel='PerCapitaIncome'>"
      ]
     },
     "execution_count": 561,
     "metadata": {},
     "output_type": "execute_result"
    },
    {
     "data": {
      "image/png": "[encoded data removed]",
      "text/plain": [
       "<Figure size 432x288 with 1 Axes>"
      ]
     },
     "metadata": {
      "needs_background": "light"
     },
     "output_type": "display_data"
    }
   ],
   "source": [
    "# h.COVID deaths during December 2020 vs. Per Capita Income level\n",
    "print(df['normalizedDec2020Deaths'].corr(df['PerCapitaIncome']))\n",
    "df.plot.scatter(x='normalizedDec2020Deaths', y='PerCapitaIncome')"
   ]
  }
 ],
 "metadata": {
  "kernelspec": {
   "display_name": "Python 3",
   "language": "python",
   "name": "python3"
  },
  "language_info": {
   "codemirror_mode": {
    "name": "ipython",
    "version": 3
   },
   "file_extension": ".py",
   "mimetype": "text/x-python",
   "name": "python",
   "nbconvert_exporter": "python",
   "pygments_lexer": "ipython3",
   "version": "3.9.1"
  }
 },
 "nbformat": 4,
 "nbformat_minor": 1
}